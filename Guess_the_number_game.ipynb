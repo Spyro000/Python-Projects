{
  "nbformat": 4,
  "nbformat_minor": 0,
  "metadata": {
    "colab": {
      "name": "Guess the number - game.ipynb",
      "provenance": [],
      "collapsed_sections": [],
      "authorship_tag": "ABX9TyMUn6Od/s9Yn9PYC+eUWV7i",
      "include_colab_link": true
    },
    "kernelspec": {
      "name": "python3",
      "display_name": "Python 3"
    },
    "language_info": {
      "name": "python"
    }
  },
  "cells": [
    {
      "cell_type": "markdown",
      "metadata": {
        "id": "view-in-github",
        "colab_type": "text"
      },
      "source": [
        "<a href=\"https://colab.research.google.com/github/Spyro000/Python-Projects/blob/main/Guess_the_number_game.ipynb\" target=\"_parent\"><img src=\"https://colab.research.google.com/assets/colab-badge.svg\" alt=\"Open In Colab\"/></a>"
      ]
    },
    {
      "cell_type": "code",
      "execution_count": null,
      "metadata": {
        "id": "KkhGzus__K9m"
      },
      "outputs": [],
      "source": [
        "from random import randint\n",
        "\n",
        "MIN = 1\n",
        "MAX = 100\n",
        "\n",
        "cor_num = randint(MIN,MAX)\n",
        "pre_num = None\n",
        "am_guesses = 0\n",
        "\n",
        "while True:\n",
        "  pla_num = int(input(f'Guess the number from {MIN} to {MAX}: '))\n",
        "  am_guesses += 1\n",
        "\n",
        "  if pla_num < MIN or pla_num > MAX:\n",
        "    print('OUT OF BOUNDS')\n",
        "    continue\n",
        "  \n",
        "  elif pla_num == cor_num:\n",
        "    print(f'You WIN! The correct number is {cor_num}')\n",
        "    print(f'You guessed {am_guesses} amounts of time')\n",
        "    break\n",
        "\n",
        "  elif pre_num == None:\n",
        "    if abs(pla_num-cor_num) >= 10:\n",
        "      print('COLD!')\n",
        "    else:\n",
        "      print('WARM!')\n",
        "\n",
        "  elif abs(pla_num-cor_num) < abs(pre_num-cor_num):\n",
        "    print('WARMER!')\n",
        "  else:\n",
        "    print('COLDER!')\n",
        "\n",
        "  pre_num = pla_num"
      ]
    }
  ]
}