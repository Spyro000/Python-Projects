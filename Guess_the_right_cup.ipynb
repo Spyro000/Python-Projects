{
  "nbformat": 4,
  "nbformat_minor": 0,
  "metadata": {
    "colab": {
      "name": "Guess the right cup.ipynb",
      "provenance": [],
      "collapsed_sections": [],
      "authorship_tag": "ABX9TyNizAXtLOey+1XoGhVy3QFt",
      "include_colab_link": true
    },
    "kernelspec": {
      "name": "python3",
      "display_name": "Python 3"
    },
    "language_info": {
      "name": "python"
    }
  },
  "cells": [
    {
      "cell_type": "markdown",
      "metadata": {
        "id": "view-in-github",
        "colab_type": "text"
      },
      "source": [
        "<a href=\"https://colab.research.google.com/github/Spyro000/Python-Projects/blob/main/Guess_the_right_cup.ipynb\" target=\"_parent\"><img src=\"https://colab.research.google.com/assets/colab-badge.svg\" alt=\"Open In Colab\"/></a>"
      ]
    },
    {
      "cell_type": "code",
      "source": [
        "from random import shuffle\n",
        "\n",
        "def shuffle_list(list):\n",
        "  shuffle(list)\n",
        "  return list"
      ],
      "metadata": {
        "id": "53wrsIZXRMa0"
      },
      "execution_count": 40,
      "outputs": []
    },
    {
      "cell_type": "code",
      "source": [
        "def player_guess():\n",
        "  guess = ''\n",
        "\n",
        "  while guess not in ['0', '1', '2']:\n",
        "    guess = input('Pick a number between 0, 1 or 2: ')\n",
        "\n",
        "  return int(guess)"
      ],
      "metadata": {
        "id": "hyn0q9MkRzEE"
      },
      "execution_count": 41,
      "outputs": []
    },
    {
      "cell_type": "code",
      "source": [
        "def check_guess(mylist, guess):\n",
        "  print(f'You guessed {guess}')\n",
        "  # Make pseudographick\n",
        "  print()\n",
        "  print('  {}v'.format(' ' * guess * 5))\n",
        "  print(mylist)\n",
        "  print()\n",
        "\n",
        "  if mylist[guess] == 'O':\n",
        "    print('You Won!')\n",
        "  else:\n",
        "    print('You lost.')"
      ],
      "metadata": {
        "id": "0Ss39xgySs02"
      },
      "execution_count": 44,
      "outputs": []
    },
    {
      "cell_type": "code",
      "source": [
        "# Initial list\n",
        "cups = [' ', 'O', ' ']\n",
        "\n",
        "# Shuffle list\n",
        "shuffle_list(cups)\n",
        "\n",
        "# Get guess\n",
        "guess = player_guess()\n",
        "\n",
        "# Check guess\n",
        "check_guess(cups, guess)\n",
        "\n"
      ],
      "metadata": {
        "colab": {
          "base_uri": "https://localhost:8080/"
        },
        "id": "vb0hcWmnRU7k",
        "outputId": "0bba0752-030a-41be-d45d-4c5889f75960"
      },
      "execution_count": 45,
      "outputs": [
        {
          "output_type": "stream",
          "name": "stdout",
          "text": [
            "Pick a number between 0, 1 or 2: 2\n",
            "You guessed 2\n",
            "\n",
            "            v\n",
            "[' ', ' ', 'O']\n",
            "\n",
            "You Won!\n"
          ]
        }
      ]
    }
  ]
}